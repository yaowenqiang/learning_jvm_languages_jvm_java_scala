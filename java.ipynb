{
 "cells": [
  {
   "cell_type": "code",
   "execution_count": 2,
   "id": "688801c9-7a09-4fc2-acfe-0b23130a8a46",
   "metadata": {
    "tags": []
   },
   "outputs": [
    {
     "name": "stdout",
     "output_type": "stream",
     "text": [
      "Hello world\n"
     ]
    }
   ],
   "source": [
    "System.out.println(\"Hello world\");"
   ]
  },
  {
   "cell_type": "code",
   "execution_count": 5,
   "id": "b225be97-b5fb-4f47-a32c-1009540ff306",
   "metadata": {
    "tags": []
   },
   "outputs": [],
   "source": [
    "int[] intArray1 = new int[2];\n",
    "int intArray2[] = new int[2];"
   ]
  },
  {
   "cell_type": "code",
   "execution_count": 9,
   "id": "aa312e43-3dd3-4d8f-83f7-af6af0ff7135",
   "metadata": {
    "tags": []
   },
   "outputs": [
    {
     "data": {
      "text/plain": [
       "[I@168e7474"
      ]
     },
     "execution_count": 9,
     "metadata": {},
     "output_type": "execute_result"
    }
   ],
   "source": [
    "intArray1"
   ]
  },
  {
   "cell_type": "code",
   "execution_count": 7,
   "id": "b4729107-dfdb-4be9-b4a2-36428b2bc936",
   "metadata": {
    "tags": []
   },
   "outputs": [
    {
     "data": {
      "text/plain": [
       "[I@e71e6cb"
      ]
     },
     "execution_count": 7,
     "metadata": {},
     "output_type": "execute_result"
    }
   ],
   "source": [
    "intArray2"
   ]
  },
  {
   "cell_type": "code",
   "execution_count": 8,
   "id": "ee18751a-176e-49ec-bee1-c194ca8cd650",
   "metadata": {
    "tags": []
   },
   "outputs": [
    {
     "data": {
      "text/plain": [
       "20"
      ]
     },
     "execution_count": 8,
     "metadata": {},
     "output_type": "execute_result"
    }
   ],
   "source": [
    "intArray1[0] = 10;\n",
    "intArray1[1] = 20;"
   ]
  },
  {
   "cell_type": "code",
   "execution_count": 10,
   "id": "1936aa49-b4af-44a2-8266-ca2219979b48",
   "metadata": {
    "tags": []
   },
   "outputs": [
    {
     "data": {
      "text/plain": [
       "2"
      ]
     },
     "execution_count": 10,
     "metadata": {},
     "output_type": "execute_result"
    }
   ],
   "source": [
    "intArray1.length"
   ]
  },
  {
   "cell_type": "code",
   "execution_count": 12,
   "id": "dffb8f5a-8d5b-4610-9705-1a61803b19f6",
   "metadata": {
    "tags": []
   },
   "outputs": [
    {
     "data": {
      "text/plain": [
       "[10, 20]"
      ]
     },
     "execution_count": 12,
     "metadata": {},
     "output_type": "execute_result"
    }
   ],
   "source": [
    "java.util.Arrays.toString(intArray1);"
   ]
  },
  {
   "cell_type": "code",
   "execution_count": 13,
   "id": "da1e2a39-72b4-4150-a880-28113fd4339d",
   "metadata": {
    "tags": []
   },
   "outputs": [],
   "source": [
    "import java.util.ArrayList;"
   ]
  },
  {
   "cell_type": "code",
   "execution_count": 14,
   "id": "efd50630-4650-478d-a125-9efb442f9b35",
   "metadata": {
    "tags": []
   },
   "outputs": [
    {
     "data": {
      "text/plain": [
       "true"
      ]
     },
     "execution_count": 14,
     "metadata": {},
     "output_type": "execute_result"
    }
   ],
   "source": [
    "ArrayList list = new ArrayList();\n",
    "list.add(new Integer(123));\n",
    "list.add(\"This is not an integer\");\n"
   ]
  },
  {
   "cell_type": "code",
   "execution_count": 15,
   "id": "9eee102b-5e98-447a-a0cb-14f324f0f208",
   "metadata": {
    "tags": []
   },
   "outputs": [
    {
     "data": {
      "text/plain": [
       "[123, This is not an integer]"
      ]
     },
     "execution_count": 15,
     "metadata": {},
     "output_type": "execute_result"
    }
   ],
   "source": [
    "list"
   ]
  },
  {
   "cell_type": "code",
   "execution_count": 16,
   "id": "9fdd747a-1a9e-4c8f-9a26-c5999cb3401b",
   "metadata": {
    "tags": []
   },
   "outputs": [],
   "source": [
    "Integer i = (Integer)list.get(0);"
   ]
  },
  {
   "cell_type": "code",
   "execution_count": 17,
   "id": "cda195f5-f7a5-4780-8299-555883432939",
   "metadata": {
    "tags": []
   },
   "outputs": [
    {
     "data": {
      "text/plain": [
       "123"
      ]
     },
     "execution_count": 17,
     "metadata": {},
     "output_type": "execute_result"
    }
   ],
   "source": [
    "i"
   ]
  },
  {
   "cell_type": "code",
   "execution_count": 18,
   "id": "14ad6ddd-a773-4c81-bc56-a1733888e37c",
   "metadata": {
    "tags": []
   },
   "outputs": [
    {
     "ename": "EvalException",
     "evalue": "class java.lang.String cannot be cast to class java.lang.Integer (java.lang.String and java.lang.Integer are in module java.base of loader 'bootstrap')",
     "output_type": "error",
     "traceback": [
      "\u001b[1m\u001b[31m---------------------------------------------------------------------------\u001b[0m",
      "\u001b[1m\u001b[31mjava.lang.ClassCastException: class java.lang.String cannot be cast to class java.lang.Integer (java.lang.String and java.lang.Integer are in module java.base of loader 'bootstrap')\u001b[0m",
      "\u001b[1m\u001b[31m\tat .(#31:1)\u001b[0m"
     ]
    }
   ],
   "source": [
    "i = (Integer)list.get(1);"
   ]
  },
  {
   "cell_type": "markdown",
   "id": "8e9f4355-678d-454e-98ab-1a5aecc1907f",
   "metadata": {},
   "source": [
    "Generics"
   ]
  },
  {
   "cell_type": "code",
   "execution_count": 19,
   "id": "233dd050-e545-4d3e-8c82-3002a6b5f710",
   "metadata": {
    "tags": []
   },
   "outputs": [
    {
     "data": {
      "text/plain": [
       "true"
      ]
     },
     "execution_count": 19,
     "metadata": {},
     "output_type": "execute_result"
    }
   ],
   "source": [
    "import java.util.List;\n",
    "List<Integer> listWithIntegers = new ArrayList<>();\n",
    "listWithIntegers.add(new Integer(1));"
   ]
  },
  {
   "cell_type": "code",
   "execution_count": 20,
   "id": "352b6b4e-8d0c-4f58-82db-ca02c0cff36e",
   "metadata": {
    "tags": []
   },
   "outputs": [
    {
     "data": {
      "text/plain": [
       "[1]"
      ]
     },
     "execution_count": 20,
     "metadata": {},
     "output_type": "execute_result"
    }
   ],
   "source": [
    "listWithIntegers;"
   ]
  },
  {
   "cell_type": "markdown",
   "id": "5c360f8a-cbf2-4cc9-9577-de073f89adca",
   "metadata": {},
   "source": [
    "HashMaps"
   ]
  },
  {
   "cell_type": "code",
   "execution_count": 21,
   "id": "e5e2cc99-b68f-47d0-a60d-12af74917bc8",
   "metadata": {
    "tags": []
   },
   "outputs": [
    {
     "data": {
      "text/plain": [
       "1"
      ]
     },
     "execution_count": 21,
     "metadata": {},
     "output_type": "execute_result"
    }
   ],
   "source": [
    "import java.util.HashMap;\n",
    "import java.util.Map;\n",
    "Map<String, Integer> map = new HashMap<>();\n",
    "map.put(\"one\", new Integer(1));\n",
    "map.put(\"ten\", new Integer(10));\n",
    "map.get(\"one\");"
   ]
  },
  {
   "cell_type": "code",
   "execution_count": 24,
   "id": "9d19c957-daa7-47b2-b96c-0b2e1e0b4fff",
   "metadata": {
    "tags": []
   },
   "outputs": [
    {
     "name": "stdout",
     "output_type": "stream",
     "text": [
      "/ by zero\n"
     ]
    },
    {
     "name": "stderr",
     "output_type": "stream",
     "text": [
      "java.lang.ArithmeticException: / by zero\n",
      "\tat REPL.$JShell$44.do_it$($JShell$44.java:17)\n",
      "\tat java.base/jdk.internal.reflect.DirectMethodHandleAccessor.invoke(DirectMethodHandleAccessor.java:104)\n",
      "\tat java.base/java.lang.reflect.Method.invoke(Method.java:578)\n",
      "\tat io.github.spencerpark.ijava.execution.IJavaExecutionControl.lambda$execute$1(IJavaExecutionControl.java:95)\n",
      "\tat java.base/java.util.concurrent.FutureTask.run(FutureTask.java:317)\n",
      "\tat java.base/java.util.concurrent.ThreadPoolExecutor.runWorker(ThreadPoolExecutor.java:1144)\n",
      "\tat java.base/java.util.concurrent.ThreadPoolExecutor$Worker.run(ThreadPoolExecutor.java:642)\n",
      "\tat java.base/java.lang.Thread.run(Thread.java:1623)\n"
     ]
    }
   ],
   "source": [
    "try {\n",
    "    System.out.println(0/0);\n",
    "    System.out.println(\"exit\");\n",
    "} catch (NullPointerException e) {\n",
    "    System.out.println(\"NULL POINTER EXCEPTION!\");\n",
    "} catch (ArithmeticException e) {\n",
    "    System.out.println(e.getMessage());\n",
    "    e.printStackTrace();\n",
    "} catch (Exception e) {\n",
    "    System.out.println(\"DIFFERENT ERROR!\");\n",
    "}"
   ]
  },
  {
   "cell_type": "code",
   "execution_count": null,
   "id": "e011c2af-ea24-4299-899c-9cd88dff86d7",
   "metadata": {},
   "outputs": [],
   "source": []
  }
 ],
 "metadata": {
  "kernelspec": {
   "display_name": "java (IJava/j!)",
   "language": "java",
   "name": "jbang-ijava"
  },
  "language_info": {
   "codemirror_mode": "java",
   "file_extension": ".jshell",
   "mimetype": "text/x-java-source",
   "name": "Java",
   "pygments_lexer": "java",
   "version": "20.0.1+9-29"
  }
 },
 "nbformat": 4,
 "nbformat_minor": 5
}
